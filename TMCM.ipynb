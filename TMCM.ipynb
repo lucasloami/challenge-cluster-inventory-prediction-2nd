{
 "cells": [
  {
   "cell_type": "code",
   "execution_count": 3,
   "metadata": {},
   "outputs": [],
   "source": [
    "import pandas as pd\n",
    "import numpy as np\n",
    "from __future__ import division"
   ]
  },
  {
   "cell_type": "code",
   "execution_count": 4,
   "metadata": {},
   "outputs": [],
   "source": [
    "attr_w = ['A', 'A', 'A', 'B', 'B','B', 'A']\n",
    "attr_x = ['C', 'C', 'D', 'D', 'C', 'E', 'D']\n",
    "attr_y = [.1, .3, .8, .9, .2, .6, .7]\n",
    "attr_z = [.1, .9, .8, .2, .8, .9, .1]\n",
    "\n",
    "df = pd.DataFrame({'W': attr_w, 'X': attr_x, 'Y': attr_y, 'Z': attr_z})\n",
    "categ_df = df[['W', 'X']]"
   ]
  },
  {
   "cell_type": "code",
   "execution_count": 5,
   "metadata": {},
   "outputs": [
    {
     "data": {
      "text/html": [
       "<div>\n",
       "<style scoped>\n",
       "    .dataframe tbody tr th:only-of-type {\n",
       "        vertical-align: middle;\n",
       "    }\n",
       "\n",
       "    .dataframe tbody tr th {\n",
       "        vertical-align: top;\n",
       "    }\n",
       "\n",
       "    .dataframe thead th {\n",
       "        text-align: right;\n",
       "    }\n",
       "</style>\n",
       "<table border=\"1\" class=\"dataframe\">\n",
       "  <thead>\n",
       "    <tr style=\"text-align: right;\">\n",
       "      <th></th>\n",
       "      <th>W</th>\n",
       "      <th>X</th>\n",
       "      <th>Y</th>\n",
       "      <th>Z</th>\n",
       "    </tr>\n",
       "  </thead>\n",
       "  <tbody>\n",
       "    <tr>\n",
       "      <th>0</th>\n",
       "      <td>A</td>\n",
       "      <td>C</td>\n",
       "      <td>0.1</td>\n",
       "      <td>0.1</td>\n",
       "    </tr>\n",
       "    <tr>\n",
       "      <th>1</th>\n",
       "      <td>A</td>\n",
       "      <td>C</td>\n",
       "      <td>0.3</td>\n",
       "      <td>0.9</td>\n",
       "    </tr>\n",
       "    <tr>\n",
       "      <th>2</th>\n",
       "      <td>A</td>\n",
       "      <td>D</td>\n",
       "      <td>0.8</td>\n",
       "      <td>0.8</td>\n",
       "    </tr>\n",
       "    <tr>\n",
       "      <th>3</th>\n",
       "      <td>B</td>\n",
       "      <td>D</td>\n",
       "      <td>0.9</td>\n",
       "      <td>0.2</td>\n",
       "    </tr>\n",
       "    <tr>\n",
       "      <th>4</th>\n",
       "      <td>B</td>\n",
       "      <td>C</td>\n",
       "      <td>0.2</td>\n",
       "      <td>0.8</td>\n",
       "    </tr>\n",
       "  </tbody>\n",
       "</table>\n",
       "</div>"
      ],
      "text/plain": [
       "   W  X    Y    Z\n",
       "0  A  C  0.1  0.1\n",
       "1  A  C  0.3  0.9\n",
       "2  A  D  0.8  0.8\n",
       "3  B  D  0.9  0.2\n",
       "4  B  C  0.2  0.8"
      ]
     },
     "execution_count": 5,
     "metadata": {},
     "output_type": "execute_result"
    }
   ],
   "source": [
    "df.head()"
   ]
  },
  {
   "cell_type": "code",
   "execution_count": 10,
   "metadata": {},
   "outputs": [],
   "source": [
    "unique_categ_vals = []\n",
    "for col in categ_df.columns:\n",
    "    unique_categ_vals += categ_df[col].unique().tolist()\n",
    "    \n",
    "indexes = unique_categ_vals\n",
    "columns = unique_categ_vals"
   ]
  },
  {
   "cell_type": "code",
   "execution_count": 7,
   "metadata": {},
   "outputs": [
    {
     "data": {
      "text/plain": [
       "['C', 'D', 'E']"
      ]
     },
     "execution_count": 7,
     "metadata": {},
     "output_type": "execute_result"
    }
   ],
   "source": [
    "categ_df['X'].unique().tolist()"
   ]
  },
  {
   "cell_type": "code",
   "execution_count": 9,
   "metadata": {},
   "outputs": [
    {
     "data": {
      "text/plain": [
       "['A', 'B', 'C', 'D', 'E']"
      ]
     },
     "execution_count": 9,
     "metadata": {},
     "output_type": "execute_result"
    }
   ],
   "source": [
    "unique_categ_vals"
   ]
  },
  {
   "cell_type": "code",
   "execution_count": 12,
   "metadata": {},
   "outputs": [],
   "source": [
    "df_ = pd.DataFrame(index=indexes, columns=columns)"
   ]
  },
  {
   "cell_type": "code",
   "execution_count": 13,
   "metadata": {},
   "outputs": [
    {
     "data": {
      "text/html": [
       "<div>\n",
       "<style>\n",
       "    .dataframe thead tr:only-child th {\n",
       "        text-align: right;\n",
       "    }\n",
       "\n",
       "    .dataframe thead th {\n",
       "        text-align: left;\n",
       "    }\n",
       "\n",
       "    .dataframe tbody tr th {\n",
       "        vertical-align: top;\n",
       "    }\n",
       "</style>\n",
       "<table border=\"1\" class=\"dataframe\">\n",
       "  <thead>\n",
       "    <tr style=\"text-align: right;\">\n",
       "      <th></th>\n",
       "      <th>A</th>\n",
       "      <th>B</th>\n",
       "      <th>C</th>\n",
       "      <th>D</th>\n",
       "      <th>E</th>\n",
       "    </tr>\n",
       "  </thead>\n",
       "  <tbody>\n",
       "    <tr>\n",
       "      <th>A</th>\n",
       "      <td>NaN</td>\n",
       "      <td>NaN</td>\n",
       "      <td>NaN</td>\n",
       "      <td>NaN</td>\n",
       "      <td>NaN</td>\n",
       "    </tr>\n",
       "    <tr>\n",
       "      <th>B</th>\n",
       "      <td>NaN</td>\n",
       "      <td>NaN</td>\n",
       "      <td>NaN</td>\n",
       "      <td>NaN</td>\n",
       "      <td>NaN</td>\n",
       "    </tr>\n",
       "    <tr>\n",
       "      <th>C</th>\n",
       "      <td>NaN</td>\n",
       "      <td>NaN</td>\n",
       "      <td>NaN</td>\n",
       "      <td>NaN</td>\n",
       "      <td>NaN</td>\n",
       "    </tr>\n",
       "    <tr>\n",
       "      <th>D</th>\n",
       "      <td>NaN</td>\n",
       "      <td>NaN</td>\n",
       "      <td>NaN</td>\n",
       "      <td>NaN</td>\n",
       "      <td>NaN</td>\n",
       "    </tr>\n",
       "    <tr>\n",
       "      <th>E</th>\n",
       "      <td>NaN</td>\n",
       "      <td>NaN</td>\n",
       "      <td>NaN</td>\n",
       "      <td>NaN</td>\n",
       "      <td>NaN</td>\n",
       "    </tr>\n",
       "  </tbody>\n",
       "</table>\n",
       "</div>"
      ],
      "text/plain": [
       "     A    B    C    D    E\n",
       "A  NaN  NaN  NaN  NaN  NaN\n",
       "B  NaN  NaN  NaN  NaN  NaN\n",
       "C  NaN  NaN  NaN  NaN  NaN\n",
       "D  NaN  NaN  NaN  NaN  NaN\n",
       "E  NaN  NaN  NaN  NaN  NaN"
      ]
     },
     "execution_count": 13,
     "metadata": {},
     "output_type": "execute_result"
    }
   ],
   "source": [
    "df_.head()"
   ]
  },
  {
   "cell_type": "code",
   "execution_count": 33,
   "metadata": {},
   "outputs": [],
   "source": [
    "df_ = pd.DataFrame(index=indexes, columns=columns)\n",
    "\n",
    "def get_col_name(val):\n",
    "    mapping = {'W': ['A', 'B'], 'X': ['C', 'D', 'E']}\n",
    "    for k, v in mapping.iteritems():\n",
    "        if val in mapping[k]:\n",
    "            return(k)\n",
    "        \n",
    "# df.loc[index, 'COL_NAME'] = x\n",
    "offset = 0\n",
    "for index in indexes:\n",
    "    offset_columns = columns[offset:]\n",
    "    offset +=1\n",
    "    for column in offset_columns:\n",
    "        n = len(df[(df[get_col_name(index)] == index) & (df[get_col_name(column)] == column) ])\n",
    "        df_.loc[index, column] = n\n",
    "        \n",
    "df_.fillna(0, inplace=True)"
   ]
  },
  {
   "cell_type": "code",
   "execution_count": 34,
   "metadata": {},
   "outputs": [
    {
     "data": {
      "text/html": [
       "<div>\n",
       "<style>\n",
       "    .dataframe thead tr:only-child th {\n",
       "        text-align: right;\n",
       "    }\n",
       "\n",
       "    .dataframe thead th {\n",
       "        text-align: left;\n",
       "    }\n",
       "\n",
       "    .dataframe tbody tr th {\n",
       "        vertical-align: top;\n",
       "    }\n",
       "</style>\n",
       "<table border=\"1\" class=\"dataframe\">\n",
       "  <thead>\n",
       "    <tr style=\"text-align: right;\">\n",
       "      <th></th>\n",
       "      <th>A</th>\n",
       "      <th>B</th>\n",
       "      <th>C</th>\n",
       "      <th>D</th>\n",
       "      <th>E</th>\n",
       "    </tr>\n",
       "  </thead>\n",
       "  <tbody>\n",
       "    <tr>\n",
       "      <th>A</th>\n",
       "      <td>4</td>\n",
       "      <td>0</td>\n",
       "      <td>2</td>\n",
       "      <td>2</td>\n",
       "      <td>0</td>\n",
       "    </tr>\n",
       "    <tr>\n",
       "      <th>B</th>\n",
       "      <td>0</td>\n",
       "      <td>3</td>\n",
       "      <td>1</td>\n",
       "      <td>1</td>\n",
       "      <td>1</td>\n",
       "    </tr>\n",
       "    <tr>\n",
       "      <th>C</th>\n",
       "      <td>0</td>\n",
       "      <td>0</td>\n",
       "      <td>3</td>\n",
       "      <td>0</td>\n",
       "      <td>0</td>\n",
       "    </tr>\n",
       "    <tr>\n",
       "      <th>D</th>\n",
       "      <td>0</td>\n",
       "      <td>0</td>\n",
       "      <td>0</td>\n",
       "      <td>3</td>\n",
       "      <td>0</td>\n",
       "    </tr>\n",
       "    <tr>\n",
       "      <th>E</th>\n",
       "      <td>0</td>\n",
       "      <td>0</td>\n",
       "      <td>0</td>\n",
       "      <td>0</td>\n",
       "      <td>1</td>\n",
       "    </tr>\n",
       "  </tbody>\n",
       "</table>\n",
       "</div>"
      ],
      "text/plain": [
       "   A  B  C  D  E\n",
       "A  4  0  2  2  0\n",
       "B  0  3  1  1  1\n",
       "C  0  0  3  0  0\n",
       "D  0  0  0  3  0\n",
       "E  0  0  0  0  1"
      ]
     },
     "execution_count": 34,
     "metadata": {},
     "output_type": "execute_result"
    }
   ],
   "source": [
    "df_.head()"
   ]
  },
  {
   "cell_type": "code",
   "execution_count": 35,
   "metadata": {},
   "outputs": [
    {
     "data": {
      "text/plain": [
       "4"
      ]
     },
     "execution_count": 35,
     "metadata": {},
     "output_type": "execute_result"
    }
   ],
   "source": []
  },
  {
   "cell_type": "code",
   "execution_count": 37,
   "metadata": {},
   "outputs": [],
   "source": [
    "df_distances = pd.DataFrame(index=indexes, columns=columns)\n",
    "\n",
    "offset = 1\n",
    "for index in indexes:\n",
    "    offset_columns = columns[offset:]\n",
    "    offset +=1\n",
    "    for column in offset_columns:\n",
    "        mxy = df_.loc[index, column]\n",
    "        mx = df_.loc[index, index]\n",
    "        my = df_.loc[column, column]\n",
    "        dxy = mxy/(mx + my - mxy)\n",
    "        df_distances.loc[index, column] = dxy"
   ]
  },
  {
   "cell_type": "code",
   "execution_count": 38,
   "metadata": {},
   "outputs": [
    {
     "data": {
      "text/html": [
       "<div>\n",
       "<style>\n",
       "    .dataframe thead tr:only-child th {\n",
       "        text-align: right;\n",
       "    }\n",
       "\n",
       "    .dataframe thead th {\n",
       "        text-align: left;\n",
       "    }\n",
       "\n",
       "    .dataframe tbody tr th {\n",
       "        vertical-align: top;\n",
       "    }\n",
       "</style>\n",
       "<table border=\"1\" class=\"dataframe\">\n",
       "  <thead>\n",
       "    <tr style=\"text-align: right;\">\n",
       "      <th></th>\n",
       "      <th>A</th>\n",
       "      <th>B</th>\n",
       "      <th>C</th>\n",
       "      <th>D</th>\n",
       "      <th>E</th>\n",
       "    </tr>\n",
       "  </thead>\n",
       "  <tbody>\n",
       "    <tr>\n",
       "      <th>A</th>\n",
       "      <td>NaN</td>\n",
       "      <td>0</td>\n",
       "      <td>0.4</td>\n",
       "      <td>0.4</td>\n",
       "      <td>0</td>\n",
       "    </tr>\n",
       "    <tr>\n",
       "      <th>B</th>\n",
       "      <td>NaN</td>\n",
       "      <td>NaN</td>\n",
       "      <td>0.2</td>\n",
       "      <td>0.2</td>\n",
       "      <td>0.333333</td>\n",
       "    </tr>\n",
       "    <tr>\n",
       "      <th>C</th>\n",
       "      <td>NaN</td>\n",
       "      <td>NaN</td>\n",
       "      <td>NaN</td>\n",
       "      <td>0</td>\n",
       "      <td>0</td>\n",
       "    </tr>\n",
       "    <tr>\n",
       "      <th>D</th>\n",
       "      <td>NaN</td>\n",
       "      <td>NaN</td>\n",
       "      <td>NaN</td>\n",
       "      <td>NaN</td>\n",
       "      <td>0</td>\n",
       "    </tr>\n",
       "    <tr>\n",
       "      <th>E</th>\n",
       "      <td>NaN</td>\n",
       "      <td>NaN</td>\n",
       "      <td>NaN</td>\n",
       "      <td>NaN</td>\n",
       "      <td>NaN</td>\n",
       "    </tr>\n",
       "  </tbody>\n",
       "</table>\n",
       "</div>"
      ],
      "text/plain": [
       "     A    B    C    D         E\n",
       "A  NaN    0  0.4  0.4         0\n",
       "B  NaN  NaN  0.2  0.2  0.333333\n",
       "C  NaN  NaN  NaN    0         0\n",
       "D  NaN  NaN  NaN  NaN         0\n",
       "E  NaN  NaN  NaN  NaN       NaN"
      ]
     },
     "execution_count": 38,
     "metadata": {},
     "output_type": "execute_result"
    }
   ],
   "source": [
    "df_distances.head()"
   ]
  },
  {
   "cell_type": "code",
   "execution_count": 141,
   "metadata": {},
   "outputs": [],
   "source": [
    "def within_group_variance(df, base_attr_col, numerical_cols):\n",
    "    base_items = df[base_attr_col].unique().tolist()\n",
    "    best_wgv = {'wgv': float('Inf')}\n",
    "    for numeric_col in numeric_cols:\n",
    "        ss = 0\n",
    "        for base_item in base_items:\n",
    "            sub_df = df[df[base_attr_col] == base_item]\n",
    "            var = sub_df[numeric_col].var()\n",
    "            var = 0 if np.isnan(var) else var\n",
    "            ss += var\n",
    "\n",
    "        if  ss < best_wgv['wgv']:\n",
    "            best_wgv['wgv'] = ss\n",
    "            best_wgv['attr_col'] = numeric_col\n",
    "    return(best_wgv)\n",
    "            \n",
    "numeric_cols = ['Y', 'Z']\n",
    "base_attr_col = 'X'\n",
    "best = within_group_variance(df, base_attr_col, numeric_cols)\n"
   ]
  },
  {
   "cell_type": "code",
   "execution_count": 84,
   "metadata": {},
   "outputs": [
    {
     "data": {
      "text/plain": [
       "{'attr_col': 'Y', 'wgv': 0.020000000000000004}"
      ]
     },
     "execution_count": 84,
     "metadata": {},
     "output_type": "execute_result"
    }
   ],
   "source": [
    "best_wgv"
   ]
  },
  {
   "cell_type": "code",
   "execution_count": 91,
   "metadata": {},
   "outputs": [],
   "source": [
    "df2 = df.groupby('X').agg({\"Y\": 'mean'}).reset_index().rename(columns={'Y': \"numeric_X\"})"
   ]
  },
  {
   "cell_type": "code",
   "execution_count": 92,
   "metadata": {},
   "outputs": [
    {
     "data": {
      "text/html": [
       "<div>\n",
       "<style>\n",
       "    .dataframe thead tr:only-child th {\n",
       "        text-align: right;\n",
       "    }\n",
       "\n",
       "    .dataframe thead th {\n",
       "        text-align: left;\n",
       "    }\n",
       "\n",
       "    .dataframe tbody tr th {\n",
       "        vertical-align: top;\n",
       "    }\n",
       "</style>\n",
       "<table border=\"1\" class=\"dataframe\">\n",
       "  <thead>\n",
       "    <tr style=\"text-align: right;\">\n",
       "      <th></th>\n",
       "      <th>W</th>\n",
       "      <th>X</th>\n",
       "      <th>Y</th>\n",
       "      <th>Z</th>\n",
       "      <th>numeric_X</th>\n",
       "    </tr>\n",
       "  </thead>\n",
       "  <tbody>\n",
       "    <tr>\n",
       "      <th>0</th>\n",
       "      <td>A</td>\n",
       "      <td>C</td>\n",
       "      <td>0.1</td>\n",
       "      <td>0.1</td>\n",
       "      <td>0.2</td>\n",
       "    </tr>\n",
       "    <tr>\n",
       "      <th>1</th>\n",
       "      <td>A</td>\n",
       "      <td>C</td>\n",
       "      <td>0.3</td>\n",
       "      <td>0.9</td>\n",
       "      <td>0.2</td>\n",
       "    </tr>\n",
       "    <tr>\n",
       "      <th>2</th>\n",
       "      <td>B</td>\n",
       "      <td>C</td>\n",
       "      <td>0.2</td>\n",
       "      <td>0.8</td>\n",
       "      <td>0.2</td>\n",
       "    </tr>\n",
       "    <tr>\n",
       "      <th>3</th>\n",
       "      <td>A</td>\n",
       "      <td>D</td>\n",
       "      <td>0.8</td>\n",
       "      <td>0.8</td>\n",
       "      <td>0.8</td>\n",
       "    </tr>\n",
       "    <tr>\n",
       "      <th>4</th>\n",
       "      <td>B</td>\n",
       "      <td>D</td>\n",
       "      <td>0.9</td>\n",
       "      <td>0.2</td>\n",
       "      <td>0.8</td>\n",
       "    </tr>\n",
       "    <tr>\n",
       "      <th>5</th>\n",
       "      <td>A</td>\n",
       "      <td>D</td>\n",
       "      <td>0.7</td>\n",
       "      <td>0.1</td>\n",
       "      <td>0.8</td>\n",
       "    </tr>\n",
       "    <tr>\n",
       "      <th>6</th>\n",
       "      <td>B</td>\n",
       "      <td>E</td>\n",
       "      <td>0.6</td>\n",
       "      <td>0.9</td>\n",
       "      <td>0.6</td>\n",
       "    </tr>\n",
       "  </tbody>\n",
       "</table>\n",
       "</div>"
      ],
      "text/plain": [
       "   W  X    Y    Z  numeric_X\n",
       "0  A  C  0.1  0.1        0.2\n",
       "1  A  C  0.3  0.9        0.2\n",
       "2  B  C  0.2  0.8        0.2\n",
       "3  A  D  0.8  0.8        0.8\n",
       "4  B  D  0.9  0.2        0.8\n",
       "5  A  D  0.7  0.1        0.8\n",
       "6  B  E  0.6  0.9        0.6"
      ]
     },
     "execution_count": 92,
     "metadata": {},
     "output_type": "execute_result"
    }
   ],
   "source": [
    "df1 = df.copy()\n",
    "df1.merge(df2, how='inner', on='X')"
   ]
  },
  {
   "cell_type": "code",
   "execution_count": 71,
   "metadata": {},
   "outputs": [],
   "source": [
    "class TMCMFeatureEng(object):\n",
    "    def __init__(self, df, categ_cols, numeric_cols):\n",
    "        self.df = df.copy()\n",
    "        self.categ_cols = categ_cols\n",
    "        self.numeric_cols = numeric_cols\n",
    "        \n",
    "    def _preprocessing(self):\n",
    "        self.df[self.numeric_cols] = self.df[self.numeric_cols].apply(lambda x: \n",
    "                                                                      (x.astype(float) - min(x))/(max(x)-min(x)), \n",
    "                                                                      axis=0)\n",
    "    \n",
    "    def _create_matrix(self, indexes, columns):\n",
    "        return(pd.DataFrame(index=indexes, columns=columns))\n",
    "    \n",
    "    def _get_col_name(self, val):\n",
    "        for k, v in self.categ_mapping.iteritems():\n",
    "            if val in self.categ_mapping[k]:\n",
    "                return(k)         \n",
    "    \n",
    "    def set_categ(self):\n",
    "        self.categ_vals = []\n",
    "        self.categ_mapping = {}\n",
    "        counter = 0\n",
    "        for col in self.categ_cols:\n",
    "            unique_vals = self.df[col].unique().tolist()\n",
    "            self.categ_vals += unique_vals\n",
    "            self.categ_mapping[col] = unique_vals\n",
    "            if len(unique_vals) > counter:\n",
    "                self.base_items = unique_vals\n",
    "                self.base_col = col\n",
    "            \n",
    "    def fill_co_occurence_matrix(self):\n",
    "        offset = 0\n",
    "        for index in self.co_occurrence_matrix.index:\n",
    "            offset_columns = self.co_occurrence_matrix.columns[offset:]\n",
    "            offset +=1\n",
    "            for column in offset_columns:\n",
    "                i_col = self._get_col_name(index)\n",
    "                c_col = self._get_col_name(column)\n",
    "                n = len(self.df[ (self.df[i_col] == index) & (self.df[c_col] == column) ])\n",
    "                self.co_occurrence_matrix.loc[index, column] = n\n",
    "#         self.co_occurrence_matrix.fillna(0, inplace=True)\n",
    "    \n",
    "    def fill_distance_matrix(self):\n",
    "        offset = 1\n",
    "        for index in self.distance_matrix.index:\n",
    "            offset_columns = self.distance_matrix.columns[offset:]\n",
    "            offset +=1\n",
    "            for column in offset_columns:\n",
    "                mxy = self.co_occurrence_matrix.loc[index, column]\n",
    "                mx = self.co_occurrence_matrix.loc[index, index]\n",
    "                my = self.co_occurrence_matrix.loc[column, column]\n",
    "                dxy = mxy/(mx + my - mxy)\n",
    "                self.distance_matrix.loc[index, column] = dxy\n",
    "#         self.distance_matrix.fillna(0, inplace=True)\n",
    "    \n",
    "    def _get_best_attr_within_group_variance(self):\n",
    "        best_wgv = {'wgv': float('Inf')}\n",
    "        for numeric_col in self.numeric_cols:\n",
    "            ss = 0\n",
    "            for base_item in self.base_items:\n",
    "                sub_df = self.df[self.df[self.base_col] == base_item]\n",
    "                var = sub_df[numeric_col].var()\n",
    "                var = 0 if np.isnan(var) else var\n",
    "                ss += var\n",
    "\n",
    "            if  ss < best_wgv['wgv']:\n",
    "                best_wgv['wgv'] = ss\n",
    "                best_wgv['attr_col'] = numeric_col\n",
    "                \n",
    "        return(best_wgv)\n",
    "    \n",
    "    def calculate_value_for_categ(self):\n",
    "        best_wgv = self._get_best_attr_within_group_variance()\n",
    "        \n",
    "        # CALCULATE FOR BASE COL\n",
    "        df2 = self.df.groupby(self.base_col).agg({best_wgv['attr_col']: 'mean'}).reset_index()\n",
    "        df2 = df2.rename(columns={best_wgv['attr_col']: \"numeric_{}\".format(self.base_col)})\n",
    "#         self.teste = df2\n",
    "        self.df = self.df.merge(df2, how='inner', on=self.base_col)\n",
    "        \n",
    "        #CALCULATE FOR REMAINING CATEG COLS\n",
    "        for col, values in self.categ_mapping.iteritems():\n",
    "            if col != self.base_col:\n",
    "                self.df['numeric_{}'.format(col)] = np.nan\n",
    "                for value in values: # unique values [A, B]\n",
    "                    v = sum([self.distance_matrix.loc[value, item] * \n",
    "                             df2.loc[df2[self.base_col] == item, 'numeric_{}'.format(self.base_col)].iloc[0] \n",
    "                             for item in self.base_items])\n",
    "                    self.df.loc[self.df[col] == value, 'numeric_{}'.format(col)] = v\n",
    "    \n",
    "    def transform(self, normalize=False):\n",
    "        if normalize == True:\n",
    "            self._preprocessing()\n",
    "            \n",
    "        self.set_categ()\n",
    "        self.co_occurrence_matrix = self._create_matrix(self.categ_vals, self.categ_vals)\n",
    "        self.distance_matrix = self._create_matrix(self.categ_vals, self.categ_vals)\n",
    "        self.fill_co_occurence_matrix()\n",
    "        self.fill_distance_matrix()\n",
    "        self.calculate_value_for_categ()\n",
    "        return(self.df)"
   ]
  },
  {
   "cell_type": "code",
   "execution_count": 69,
   "metadata": {},
   "outputs": [],
   "source": [
    "obj = TMCMFeatureEng(df, ['W', 'X'], ['Y', 'Z'])\n",
    "transformed_df = obj.transform()"
   ]
  },
  {
   "cell_type": "code",
   "execution_count": 70,
   "metadata": {},
   "outputs": [
    {
     "data": {
      "text/html": [
       "<div>\n",
       "<style scoped>\n",
       "    .dataframe tbody tr th:only-of-type {\n",
       "        vertical-align: middle;\n",
       "    }\n",
       "\n",
       "    .dataframe tbody tr th {\n",
       "        vertical-align: top;\n",
       "    }\n",
       "\n",
       "    .dataframe thead th {\n",
       "        text-align: right;\n",
       "    }\n",
       "</style>\n",
       "<table border=\"1\" class=\"dataframe\">\n",
       "  <thead>\n",
       "    <tr style=\"text-align: right;\">\n",
       "      <th></th>\n",
       "      <th>W</th>\n",
       "      <th>X</th>\n",
       "      <th>Y</th>\n",
       "      <th>Z</th>\n",
       "      <th>numeric_X</th>\n",
       "      <th>numeric_W</th>\n",
       "    </tr>\n",
       "  </thead>\n",
       "  <tbody>\n",
       "    <tr>\n",
       "      <th>0</th>\n",
       "      <td>A</td>\n",
       "      <td>C</td>\n",
       "      <td>0.1</td>\n",
       "      <td>0.1</td>\n",
       "      <td>0.2</td>\n",
       "      <td>0.4</td>\n",
       "    </tr>\n",
       "    <tr>\n",
       "      <th>1</th>\n",
       "      <td>A</td>\n",
       "      <td>C</td>\n",
       "      <td>0.3</td>\n",
       "      <td>0.9</td>\n",
       "      <td>0.2</td>\n",
       "      <td>0.4</td>\n",
       "    </tr>\n",
       "    <tr>\n",
       "      <th>2</th>\n",
       "      <td>B</td>\n",
       "      <td>C</td>\n",
       "      <td>0.2</td>\n",
       "      <td>0.8</td>\n",
       "      <td>0.2</td>\n",
       "      <td>0.4</td>\n",
       "    </tr>\n",
       "    <tr>\n",
       "      <th>3</th>\n",
       "      <td>A</td>\n",
       "      <td>D</td>\n",
       "      <td>0.8</td>\n",
       "      <td>0.8</td>\n",
       "      <td>0.8</td>\n",
       "      <td>0.4</td>\n",
       "    </tr>\n",
       "    <tr>\n",
       "      <th>4</th>\n",
       "      <td>B</td>\n",
       "      <td>D</td>\n",
       "      <td>0.9</td>\n",
       "      <td>0.2</td>\n",
       "      <td>0.8</td>\n",
       "      <td>0.4</td>\n",
       "    </tr>\n",
       "    <tr>\n",
       "      <th>5</th>\n",
       "      <td>A</td>\n",
       "      <td>D</td>\n",
       "      <td>0.7</td>\n",
       "      <td>0.1</td>\n",
       "      <td>0.8</td>\n",
       "      <td>0.4</td>\n",
       "    </tr>\n",
       "    <tr>\n",
       "      <th>6</th>\n",
       "      <td>B</td>\n",
       "      <td>E</td>\n",
       "      <td>0.6</td>\n",
       "      <td>0.9</td>\n",
       "      <td>0.6</td>\n",
       "      <td>0.4</td>\n",
       "    </tr>\n",
       "  </tbody>\n",
       "</table>\n",
       "</div>"
      ],
      "text/plain": [
       "   W  X    Y    Z  numeric_X  numeric_W\n",
       "0  A  C  0.1  0.1        0.2        0.4\n",
       "1  A  C  0.3  0.9        0.2        0.4\n",
       "2  B  C  0.2  0.8        0.2        0.4\n",
       "3  A  D  0.8  0.8        0.8        0.4\n",
       "4  B  D  0.9  0.2        0.8        0.4\n",
       "5  A  D  0.7  0.1        0.8        0.4\n",
       "6  B  E  0.6  0.9        0.6        0.4"
      ]
     },
     "execution_count": 70,
     "metadata": {},
     "output_type": "execute_result"
    }
   ],
   "source": [
    "transformed_df.head(10)"
   ]
  },
  {
   "cell_type": "code",
   "execution_count": 28,
   "metadata": {},
   "outputs": [
    {
     "data": {
      "text/plain": [
       "0.4"
      ]
     },
     "execution_count": 28,
     "metadata": {},
     "output_type": "execute_result"
    }
   ],
   "source": [
    "sum([obj.distance_matrix.loc['B', item] * obj.teste.loc[obj.teste['X'] == item, 'numeric_X'].iloc[0] for item in obj.base_items])"
   ]
  },
  {
   "cell_type": "code",
   "execution_count": 51,
   "metadata": {},
   "outputs": [
    {
     "data": {
      "text/plain": [
       "0    0.4\n",
       "1    0.4\n",
       "3    0.4\n",
       "5    0.4\n",
       "Name: numeric_X, dtype: float64"
      ]
     },
     "execution_count": 51,
     "metadata": {},
     "output_type": "execute_result"
    }
   ],
   "source": [
    "obj.df.loc[obj.df['W'] == 'A', 'numeric_{}'.format(obj.base_col)]"
   ]
  },
  {
   "cell_type": "code",
   "execution_count": 37,
   "metadata": {},
   "outputs": [
    {
     "data": {
      "text/plain": [
       "0.6"
      ]
     },
     "execution_count": 37,
     "metadata": {},
     "output_type": "execute_result"
    }
   ],
   "source": [
    "obj.teste.loc[obj.teste['X'] == 'E', 'numeric_X'].iloc[0] "
   ]
  },
  {
   "cell_type": "code",
   "execution_count": null,
   "metadata": {},
   "outputs": [],
   "source": []
  },
  {
   "cell_type": "code",
   "execution_count": 38,
   "metadata": {},
   "outputs": [
    {
     "data": {
      "text/plain": [
       "0.39999998000000003"
      ]
     },
     "execution_count": 38,
     "metadata": {},
     "output_type": "execute_result"
    }
   ],
   "source": [
    "(0.2*0.2) + (0.2*0.8) + (0.3333333*0.6)"
   ]
  },
  {
   "cell_type": "code",
   "execution_count": null,
   "metadata": {},
   "outputs": [],
   "source": []
  }
 ],
 "metadata": {
  "kernelspec": {
   "display_name": "Python 2",
   "language": "python",
   "name": "python2"
  },
  "language_info": {
   "codemirror_mode": {
    "name": "ipython",
    "version": 2
   },
   "file_extension": ".py",
   "mimetype": "text/x-python",
   "name": "python",
   "nbconvert_exporter": "python",
   "pygments_lexer": "ipython2",
   "version": "2.7.15rc1"
  }
 },
 "nbformat": 4,
 "nbformat_minor": 2
}
